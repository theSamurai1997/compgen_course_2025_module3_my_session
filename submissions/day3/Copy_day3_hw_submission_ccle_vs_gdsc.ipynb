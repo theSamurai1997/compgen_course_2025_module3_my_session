{
 "cells": [
  {
   "cell_type": "markdown",
   "id": "71e0e21d-d08e-425a-9432-ed15376def65",
   "metadata": {},
   "source": [
    "## With this homework, I practiced building multiple models on the command-line\n",
    "#### - (1) Use multi-omics data from human cancer cell lines from the CCLE and GDSC databases. \n",
    "#### - (2) Build the models on the CCLE dataset and evaluate the models on the GDSC dataset. \n",
    "#### - (3) Benchmarking of different deep learning architectures and different combinations of omic data modalities used as input.\n",
    "#### - (4) This jupyter notebook explores the best performing models. "
   ]
  },
  {
   "cell_type": "code",
   "execution_count": 2,
   "id": "1b0f3d4f-6f8d-48e8-8910-d37365be3c21",
   "metadata": {},
   "outputs": [
    {
     "name": "stderr",
     "output_type": "stream",
     "text": [
      "Seed set to 42\n"
     ]
    }
   ],
   "source": [
    "import os\n",
    "import glob\n",
    "import flexynesis\n",
    "import torch\n",
    "import numpy as np\n",
    "import seaborn as sns\n",
    "import random\n",
    "import lightning as pl\n",
    "import matplotlib.pyplot as plt\n",
    "from sklearn.decomposition import PCA\n",
    "from IPython.display import display"
   ]
  },
  {
   "cell_type": "markdown",
   "id": "f3b4dfda-1f40-4eed-844c-224b7417d775",
   "metadata": {},
   "source": [
    "#### Download and unpack the data: https://bimsbstatic.mdc-berlin.de/akalin/buyar/flexynesis-benchmark-datasets/ccle_vs_gdsc.tgz"
   ]
  },
  {
   "cell_type": "code",
   "execution_count": 8,
   "id": "51787f9c-0474-4aa2-8408-944d4da438eb",
   "metadata": {},
   "outputs": [],
   "source": [
    "if not os.path.exists(\"ccle_vs_gdsc\"):\n",
    "    !wget -O ccle_vs_gdsc.tgz \"https://bimsbstatic.mdc-berlin.de/akalin/buyar/flexynesis-benchmark-datasets/ccle_vs_gdsc.tgz\" && tar -xzvf ccle_vs_gdsc.tgz"
   ]
  },
  {
   "cell_type": "markdown",
   "id": "1d1eda29-56ef-4526-b4b9-1508643989a0",
   "metadata": {},
   "source": [
    "### Use flexynesis on the command-line to predict drug responses for “Erlotinib”. Write a bash script to run the following experiments: Try a combination of:\n",
    "\n",
    "a) different architectures: e.g. DirectPred, Supervised VAE, GNN (Test at least 2 of these).\n",
    "\n",
    "b) data type combinations (e.g. mutation, mutation + rna, mutation + cnv) (Test at least 2 of these)\n",
    "\n",
    "c) fusion methods: early, intermediate (applies only to tools other than GNN)\n",
    "\n",
    "So, in total, you will run maximally 3 x 3 x 2 = 18 different flexynesis runs (and minimally 2 x 2 x 2 = 8 different runs).\n",
    "\n",
    "Note: GNNs actually only support \"early\" fusion, so you can skip \"intermediate\" fusion for GNNs, but you can try different graph convolution options for GNNs. For GNNs, try \"GC\" and \"SAGE\" as different options in your experiment (See --gnn_conv_type argument).\n",
    "\n",
    "Hint 1: Restrict your analysis to 5-10% of the features (use a combination of variance and laplacian score filtering).\n",
    "\n",
    "Hint 2: It is okay to use few HPO iterations for this exercise (e.g. 15 iterations or so) (considering the resourse/time limits etc). The point of this exercise is not to find the perfect model, but to get an insight on the idea of benchmarking different setups.\n"
   ]
  },
  {
   "cell_type": "code",
   "execution_count": 9,
   "id": "385efd4e-f5fb-40ef-8471-c09a9cc65725",
   "metadata": {},
   "outputs": [],
   "source": [
    "#!cd /home/thesamurai/sciebo/Project_Allocation/module3_trial_multiomics/compgen_course_2025_module3_my_session/submissions/day3/\n",
    "#!bash multiomics_ccle_vs_gdsc_eval.sh"
   ]
  },
  {
   "cell_type": "code",
   "execution_count": 24,
   "id": "90b18d32-b828-4a19-8b83-b5fe2160db2b",
   "metadata": {},
   "outputs": [
    {
     "name": "stdout",
     "output_type": "stream",
     "text": [
      "\n",
      "[INFO] ================= Importing Data =================\n",
      "[INFO] Validating data folders...\n",
      "\n",
      "[INFO] ----------------- Reading Data ----------------- \n",
      "[INFO] Importing ccle_vs_gdsc/train/clin.csv...\n",
      "[INFO] Importing ccle_vs_gdsc/train/cnv.csv...\n",
      "[INFO] Importing ccle_vs_gdsc/train/mutation.csv...\n",
      "[INFO] Importing ccle_vs_gdsc/train/rna.csv...\n",
      "\n",
      "[INFO] ----------------- Reading Data ----------------- \n",
      "[INFO] Importing ccle_vs_gdsc/test/clin.csv...\n",
      "[INFO] Importing ccle_vs_gdsc/test/cnv.csv...\n",
      "[INFO] Importing ccle_vs_gdsc/test/mutation.csv...\n",
      "[INFO] Importing ccle_vs_gdsc/test/rna.csv...\n",
      "\n",
      "[INFO] ----------------- Checking for problems with the input data ----------------- \n",
      "\n",
      "[WARNING] Warnings:\n",
      "\n",
      "[WARNING] 1. Warning: Some sample labels in train/clin.csv are missing in train/cnv.csv: {'HCC2935', 'UACC-62', 'HCC827', 'TE-1', '253J', 'SNU-5', 'HCT 8', 'SNU-245', 'HT115', 'HCC1833', 'NCI-H684', 'COLO 699', '647V', 'MUTZ-3', 'SNU-869', 'SNU-1033', 'UM-UC-1', 'LN-464', 'DOV13', 'VMRC-RCW', 'U-BLC1', 'NCI-H69', 'BGC-823', 'YD-8', 'JJN-3', 'Hs 888.T', 'T1-73', 'U-343MGa', 'BICR 16', 'HCC1438', 'LK-2', 'KP-1N', 'HCC2814', 'Caki-2', 'MV4-11', 'NU-DUL-1', 'COLO 677', 'Hs 255.T', 'OV56', 'RMG-I', 'ESS-1', 'SNU-1041', 'NCI-H211', 'LN-308', 'TF-1', 'IST-Mes2', 'HCC364', 'KP-N-YN', 'SF767', 'CL-14', 'SaOS-2', 'SK-RC-20', 'LN-428', 'SF8657', 'Hs 834.T', 'SNU-475', 'THP-1', 'CMK', 'LN-319', 'SLR24', 'MKN7', 'LN-443', 'ACCS', 'CH-157MN', 'HCC1806', 'T3M-10', 'LN-340', 'Hs 895.T', 'Evsa-T', 'SNU-1066', 'TE 617.T', 'RS-5', 'JH-EsoAd1', 'JeKo-1', 'LN-215', 'GaMG', 'BFTC-905', 'KMS-27', 'ChaGo-K-1', 'Rh18', 'EW-8', 'A-1207', 'LN-382', 'COLO 818', 'MOLM-6', 'MHH-CALL-3', 'OC 315', 'SNU-C2B', 'GB-1', 'HCC1588', 'HCC827 GR5', 'IOMM-Lee', 'UOK101', 'SNU-626', 'DFCI024', 'HCC2108', 'LN-235', 'HEC-6', 'KP-1NL', 'M059J', 'HCC1359', 'OCI-Ly10', 'GLC-82', 'SK-RC-31', 'COLO 201', 'MKN45', '253J-BV'}\n",
      "[WARNING] 2. Warning: Some sample labels in train/clin.csv are missing in train/rna.csv: {'SF8657', 'BGC-823', 'MUTZ-3', 'NCI-H2073', 'HRT-18', 'ACCS', 'KP-1NL', 'M059J', 'DOV13', 'SNU-C2B', 'HN', 'JHUEM-7', 'GLC-82', 'OE21', 'COLO 699', 'KP-1N'}\n",
      "[WARNING] 3. Warning: Some sample labels in test/clin.csv are missing in test/cnv.csv: {'MDA-MB-175-VII', 'MDA-MB-435', 'SR', 'DBTRG-05MG', 'HuNS1', 'WERI-Rb-1', 'SJNB-13', 'LS411N', 'RPMI-7951', 'NCI-H157', 'EFE-184', 'NCI-H2330', 'PLC/PRF/5', 'LS174T', 'SCCH-26', 'D384 Med', 'NCI-H250', 'NALM-1', 'COR-L96-CAR', 'FTC-133', 'T1-73', 'ECC10', 'OVCAR-4', 'D458 Med', 'MDA-MB-134-VI', 'GA-10 clone 4', 'PD1503a', '380', 'D-397MG', 'KMS-12-PE', 'RTSG', 'MCF-7', 'NCI-H1648', 'GP2d', 'NCI-H2107', 'BOKU', 'KYSE-150', 'CPC-N', 'ITO-II', 'MC116', 'NCI-N417', 'LB373-MEL-D', 'ES6', 'MDA-MB-231', 'J.RT3-T3.5', 'AML-193', 'ECC12', 'NCI-H1930', 'ECC4', 'HeLaSF', 'NCI-H889', 'S-117', 'D-538MG', 'TCO-1 [Human cervical carcinoma]', 'NH-6', 'NBsusSR', 'IPC-298', 'CP50-MEL-B', 'KP-N-SI9s', 'MJ', 'SNU-387', 'DV-90', 'NB16', 'LA-N-5', 'DMS 153', 'NCI-H719', 'D556 Med', 'SCC-15', 'NCI-ADR-RES', 'HCE-T', 'NT2-D1', 'UM-UC-3', 'NCC-IT-A3', 'MDA-MB-157', 'EC-GI-10', 'CRO-AP5', 'GI-1', 'NCI-H295', 'TE 161.T', 'Calu-1', 'MC/CAR', 'CAL-39', 'HuH-28', 'Malme-3M', 'COLO 720E', 'GOTO.P3', 'GB-1', 'NCI-H1522', 'C-4-II', 'CP66-MEL', 'SCLC-21H', 'B2-17', 'M14', 'EoL-1', 'SNB-19', 'SBC-5', 'C8166', 'MUTZ-1', 'KYSE-270', 'GA-10 clone 20', 'KYSE-140', 'LC-1F', 'UACC-893', 'COR-L51', 'NCI-H1618', 'LA-N-1'}\n",
      "[WARNING] 4. Warning: Some sample labels in test/clin.csv are missing in test/mutation.csv: {'Karpas-231', 'MDA-MB-435', 'SK-N-BE(2)-M17', 'TK [Human B-cell lymphoma]', 'MY-M12', 'SK-ES-1', 'WERI-Rb-1', 'ES-2', 'MCC13', 'OE21', 'Hs 766T', 'MC-1010', 'NCI-H660', 'G-mel', 'SUP-M2', 'NCI-H290', 'SNU-407', 'KTCTL-26A', 'HCC15', 'TT2609-C02', 'CADO-ES1', 'SUP-B15', 'LN-18', 'JJN-3', 'NALM-1', 'COR-L96-CAR', 'PL4', 'JM-1', 'RERF-LC-KJ', 'Panc 04.03', 'GA-10 clone 4', '380', 'GA-10', 'SU-DHL-16', 'OVTOKO', 'ALL-SIL', 'KMS-12-PE', 'RTSG', 'Kelly', 'JHU-022', 'WM793', 'UWB1.289', 'NCI-H1435', 'OSC-20', 'TOV-21G', 'KTCTL-13', 'Hep 3B2.1-7', 'MOLP-8', 'OVCA420', 'Hs 939.T', 'KP-N-SI9s', 'RF-48', 'Fu97', 'NCI-H2135', 'SNU-1040', 'NB16', 'SUP-B8', 'OV17R', 'NCI-H196', 'HCC366', 'JURL-MK1', 'PL-21', 'RC-K8', 'OVCA433', 'CRO-AP5', 'SW1271', 'JeKo-1', 'Karpas-620', 'FLO-1', 'P32/ISH', 'PL18 [Human pancreatic adenocarcinoma]', 'COLO 720E', 'HuH-6 Clone 5', 'Hs 940.T', 'GOTO.P3', 'PaTu 8988t', 'KTCTL-195', 'NCI-H2373', 'Granta-519', 'C8166', 'MUTZ-1', 'HEY', 'WM278', 'GA-10 clone 20', 'EJM', 'WM1552C', 'VMRC-MELG', 'KOPN-8', 'BT-483', 'HeLa', 'COR-L311', 'OCI-AML-5', 'BONNA-12', 'SNU-175', 'NCI-H1105', 'NCC021', 'KTCTL-140', 'KYSE-50', 'KP-3', 'LIM1215', 'Karpas-1106P', 'SNU-398', 'RKN', 'Hs 683', 'OCI-Ly19', 'OCI-M1', 'Jurkat E6.1', 'SU-DHL-8', 'T.T', 'Hs 445', 'GEO', 'WM35', 'NCI-H2444', 'DOV13', 'VMRC-RCW', 'SCCH-26', 'Sarc9371', 'D384 Med', 'OACP4 C', 'Rh41', 'HA7-RCC', 'EFM-192A', 'MS751', 'Farage', 'HuH-1', 'LNZTA3WT4', 'SU.86.86', 'MOLM-13', 'NK-92MI', 'KP-1N', 'MCC26', 'CL-11', 'OACM5.1 C', 'HO-1-u-1', 'NCI-H740', 'CHSA0011', 'GP2d', 'C-4-I', 'ITO-II', 'KMS-12-BM', 'KP-2', 'NCC-IT', 'NCI-N417', 'VL51', 'OSC-19', 'OV-90', 'K2 [Human melanoma]', 'OV7', 'D-538MG', 'OVMIU', 'CS-1 [Human chondrosarcoma]', 'KYSE-220', 'KMS-11', 'NCI-H1944', 'NB4', 'HCC1428', 'PaTu 8902', 'MJ', 'NCI-H513', 'WIL2 NS', 'CRO-AP3', 'LA-N-5', 'KTCTL-21', 'RERF-LC-Sq1', 'COR-L95', 'JHU-029', 'KCL-22', 'JHH-1', 'KYSE-30', 'HCC1500', 'COR-L32', 'WSU-DLCL2', 'HuH-28', 'Malme-3M', 'PCI-38', 'C-4-II', 'KTCTL-1M', 'TC-71', 'OVKATE', 'SNU-182', '451Lu', 'NB(TU)1', 'NUGC-4', 'SK-MEL-31', 'MDST8', 'DiFi', 'G-292 clone A141B1', 'JHOS-2', 'PC-3 [Human lung carcinoma]', 'LA-N-1', 'PE/CA-PJ15', 'SBC-3', 'SET-2', '201T', 'STS-0421', 'SU-DHL-6', 'NCI-H3122', 'NCI-H2369', 'RERF-GC-1B', 'PEO1', 'NCI-H157', 'HDQ-P1', 'TASK1', 'NCI-H2330', 'LOU-NH91', 'JHH-7', 'BICR 31', 'Namalwa', 'KATO III', 'SiSo', 'CCK-81', 'CML-T1', 'NCI-H2591', 'BICR 78', 'SNU-283', 'YMB-1-E', 'KYM-1', 'JHH-6', 'COLO 783', 'CAL-78', 'SUP-HD1', 'SU-DHL-10', 'PD1503a', 'NCI-H3255', 'PCI-06A', 'NCI-H2869', 'JIMT-1', 'OV56', 'IGR-37', 'NCI-H929', 'NCI-H2804', 'TMK-1', 'AML-193', 'ML-1 [Human thyroid carcinoma]', 'SK-GT-4', 'NCI-H820', 'SNU-C5', 'SW403', 'MOG-G-UVW', 'ESO-26', 'FU-OV-1', 'PWR-1E', 'VMRC-LCD', 'ROS-50', 'HCC-56', 'PCI-04B', 'EN', 'NCI-H2803', 'SK-GT-2', 'COR-L321', 'CL-34', 'HPAC', 'RCH-ACV', 'NCI-H1876', 'MFE-319', 'NCI-ADR-RES', 'NCI-H1781', 'LC-1/sq', 'NCI-H2085', 'NCI-H2795', 'COR-L303', 'OVISE', 'TE 161.T', 'Panc 02.03', 'ESO-51', 'MOG-G-CCM', 'UPCI-SCC-090', 'EMC-BAC-1', 'NCI-H647', 'UD-SCC-2', 'COR-L51', 'HCC827', 'HCC78', 'MM1.S', 'OVK18', 'HuNS1', 'HT115', 'HSC-39', 'NCC010', 'SAT [Human HNSCC]', 'OCI-AML-3', 'NCI-H2066', 'NCI-H1688', 'NCI-H2595', 'SKN-3', 'LS174T', 'LN-229', 'SNU-81', 'AMO1', 'RERF-LC-FM', '42-MG-BA', 'MCAS', 'NCI-H3118', 'NCI-H2110', 'TE-4', 'NCI-H841', 'TOV-112D', 'NCI-H146', 'D-245MG', 'D458 Med', 'IHH-4', 'D-397MG', 'NCI-H847', 'NU-DUL-1', 'PCI-15A', 'NCI-H2818', 'NCI-H211', 'Hs 746.T', 'PCI-30', 'NCI-H2172', 'NCI-H1930', 'CHSA8926', 'EMC-BAC-2', 'OCUM-1', 'SU-DHL-4', 'HeLaSF', 'NCI-H889', 'MDA-MB-436', 'Ishikawa (Heraklio) 02 ER-', 'TCO-1 [Human cervical carcinoma]', 'NH-6', 'ASH-3', 'SCaBER', 'NCI-H508', 'KMH-2', 'LS180', 'HCC44', 'ME-1 [Human leukemia]', 'OCI-Ly7', 'QGP-1', 'L-1236', 'NCI-H1836', 'VAL', 'D556 Med', 'JSC-1', 'HCE-T', 'NCC-IT-A3', 'KMRC-1', 'NCI-H1915', 'KON', 'SUIT-2', 'NCI-H2810', 'NCI-H1341', 'NCI-H295', 'SNU-61', 'U-CH2', 'CAL-29', 'HARA [Human squamous cell lung carcinoma]', 'JHOS-3', 'HCC202', 'NCI-H1869', 'NCI-H2722', 'CL-40', 'B2-17', 'MOLM-16', 'SNB-19', 'JHOS-4', 'IM95', 'JHU-011', 'MHH-CALL-4', 'NCI-H1568', 'SK-N-SH', 'NCI-H2023', 'OUMS-23', 'CHSA0108', 'DAN-G', 'NCI-H2731'}\n",
      "[WARNING] 5. Warning: Some sample labels in test/clin.csv are missing in test/rna.csv: {'COLO 829', 'Karpas-231', 'SK-N-BE(2)-M17', 'TK [Human B-cell lymphoma]', 'MY-M12', 'SK-ES-1', 'ES-2', 'MCC13', 'OE21', 'Hs 766T', 'NCI-H660', 'G-mel', 'SUP-M2', 'NCI-H290', 'SNU-407', 'KTCTL-26A', 'HCC15', 'TT2609-C02', 'SNB-75', 'CADO-ES1', 'SUP-B15', 'LN-18', 'NCI-H69', 'JJN-3', 'PL4', 'JM-1', 'RERF-LC-KJ', 'Panc 04.03', 'GA-10', 'SU-DHL-16', 'OVTOKO', 'ALL-SIL', 'JHU-022', 'WM793', 'UWB1.289', 'NCI-H1435', 'NCI-H1581', 'OSC-20', 'TOV-21G', 'KTCTL-13', 'Hep 3B2.1-7', 'MOLP-8', 'OVCA420', 'Hs 939.T', 'Fu97', 'NCI-H2135', 'SNU-1040', 'NCI-H1734', 'AU565', 'OV17R', 'NCI-H196', 'HCC366', 'JURL-MK1', 'PL-21', 'RC-K8', 'OVCA433', 'SW1271', 'JeKo-1', 'Karpas-620', 'FLO-1', 'P32/ISH', 'PL18 [Human pancreatic adenocarcinoma]', 'Hs 940.T', 'PaTu 8988t', 'KTCTL-195', 'NCI-H2373', 'Granta-519', 'HEY', 'WM278', 'EJM', 'WM1552C', 'K-562', 'MLMA', 'KOPN-8', 'BT-483', 'HeLa', 'COR-L311', 'OCI-AML-5', 'SNU-175', 'NCC021', 'KTCTL-140', 'KYSE-50', 'KP-3', 'LIM1215', 'Karpas-1106P', 'SNU-398', 'RKN', 'Hs 683', 'NCI-H1694', 'OCI-Ly19', 'RL95-2', 'OCI-M1', 'Jurkat E6.1', 'SU-DHL-8', 'T.T', 'Hs 445', 'GEO', 'WM35', 'NCI-H1623', 'NCI-H2444', 'DOV13', 'VMRC-RCW', 'Sarc9371', 'OACP4 C', 'Rh41', 'EFM-192A', 'MS751', 'Farage', 'HuH-1', 'LNZTA3WT4', 'SU.86.86', 'MOLM-13', 'NK-92MI', 'KP-1N', 'MCC26', 'CL-11', 'OACM5.1 C', 'HO-1-u-1', 'NCI-H740', 'CHSA0011', 'C-4-I', 'NCC-IT', 'KP-2', 'VL51', 'OSC-19', 'OV-90', 'K2 [Human melanoma]', 'OV7', 'OVMIU', 'CS-1 [Human chondrosarcoma]', 'KYSE-220', 'KMS-11', 'NCI-H1944', 'HCC1428', 'Mo', 'PaTu 8902', 'NCI-H513', 'WIL2 NS', 'CRO-AP3', 'NCI-H719', 'KTCTL-21', 'RERF-LC-Sq1', 'COR-L95', 'SK-MEL-1', 'JHU-029', 'KCL-22', 'Lu-165', 'JHH-1', 'KYSE-30', 'NCI-H748', 'HCC1500', 'COR-L32', 'WSU-DLCL2', 'NCI-H1417', 'PCI-38', 'TC-71', 'KTCTL-1M', 'OVKATE', 'SNU-182', '451Lu', 'NB(TU)1', 'NUGC-4', 'RT-4', 'SK-MEL-31', 'NCI-H1963', 'MDST8', 'DiFi', 'G-292 clone A141B1', 'UACC-893', 'SH-4', 'JHOS-2', 'LC-2/ad', 'PC-3 [Human lung carcinoma]', 'PE/CA-PJ15', 'SBC-3', 'SET-2', '201T', 'MZ-PC-1', 'STS-0421', 'SU-DHL-6', 'NCI-H3122', 'NCI-H2369', 'RERF-GC-1B', 'PEO1', 'HDQ-P1', 'TASK1', 'LOU-NH91', 'JHH-7', 'BICR 31', 'Namalwa', 'SiSo', 'CCK-81', 'NCI-H2591', 'BICR 78', 'SNU-283', 'YMB-1-E', 'KYM-1', 'JHH-6', 'COLO 783', 'CAL-78', 'SUP-HD1', 'SU-DHL-10', 'NCI-H3255', 'NCI-H322M', 'PCI-06A', 'MV4-11', 'NCI-H2869', 'JIMT-1', 'OV56', 'NCI-H1648', 'IGR-37', 'NCI-H929', 'Ku812', 'MC116', 'NCI-H2804', 'TMK-1', 'YT', 'ML-1 [Human thyroid carcinoma]', 'SK-GT-4', 'CHP-126', 'NCI-H820', 'SNU-C5', 'ESO-26', 'FU-OV-1', 'NCI-H187', 'PWR-1E', 'VMRC-LCD', 'NCI-H720', 'ROS-50', 'CP50-MEL-B', 'HCC-56', 'PCI-04B', 'HCC1569', 'EN', 'NCI-H2803', 'SK-GT-2', 'COR-L321', 'CL-34', 'HPAC', 'RCH-ACV', 'TE 441.T', 'NCI-H1876', 'MFE-319', 'KG-1', 'NCI-H1781', 'LC-1/sq', 'NCI-H2085', 'NCI-H2795', 'COR-L303', 'OVISE', 'Panc 02.03', 'ESO-51', 'GB-1', 'ES4', 'UPCI-SCC-090', 'EMC-BAC-1', 'NCI-H647', 'UD-SCC-2', 'HCC827', 'HCC78', 'G-402', 'MM1.S', 'OVK18', 'HT115', 'NCI-H2122', 'HSC-39', 'NCC010', 'EFE-184', 'SAT [Human HNSCC]', 'OCI-AML-3', 'NCI-H2066', 'NCI-H1688', 'NCI-H2595', 'SKN-3', 'LN-229', 'SNU-81', 'AMO1', '42-MG-BA', 'MCAS', '8305C', 'NCI-H3118', 'NCI-H2110', 'TE-4', 'NCI-H841', 'TOV-112D', 'ECC10', 'IHH-4', 'NCI-H847', 'NU-DUL-1', 'PCI-15A', 'NCI-H2818', 'NCI-H211', 'Hs 746.T', 'PCI-30', 'SW756', 'NCI-H2172', 'CHSA8926', 'EMC-BAC-2', 'OCUM-1', 'SU-DHL-4', 'MDA-MB-436', 'Ishikawa (Heraklio) 02 ER-', 'ASH-3', 'SCaBER', 'KMH-2', 'LS180', 'HCC44', 'ME-1 [Human leukemia]', 'OCI-Ly7', 'QGP-1', 'L-1236', 'NCI-H1836', 'VAL', 'JSC-1', 'NCI-H128', 'KMRC-1', 'SK-PN-DW', 'NCI-H1915', 'KON', 'SUIT-2', 'NCI-H2810', 'NCI-H1341', 'SNU-61', 'MC/CAR', 'U-CH2', 'CAL-29', 'HARA [Human squamous cell lung carcinoma]', 'JHOS-3', 'A-388', 'HCC202', 'NCI-H1869', 'NCI-H2722', 'CL-40', 'MOLM-16', 'JHOS-4', 'IM95', 'JHU-011', 'KLE', 'NCI-H1568', 'SK-N-SH', 'BT-474', 'NCI-H2023', 'OUMS-23', 'CHSA0108', 'SIG-M5', 'DAN-G', 'NCI-H2731'}\n",
      "\n",
      "[INFO] ----------------- Processing Data (train) ----------------- \n",
      "\n",
      "[INFO] ----------------- Cleaning Up Data ----------------- \n",
      "\n",
      "[INFO] working on layer:  mutation\n",
      "[INFO] Imputing NA values to median of features, affected # of cells in the matrix 76760  # of rows: 808\n",
      "[INFO] Number of NA values:  0\n",
      "[INFO] DataFrame mutation - Removed 859 features.\n",
      "\n",
      "[INFO] working on layer:  rna\n",
      "[INFO] Number of NA values:  0\n",
      "[INFO] DataFrame rna - Removed 9098 features.\n",
      "\n",
      "[INFO] working on layer:  cnv\n",
      "[INFO] Imputing NA values to median of features, affected # of cells in the matrix 19914  # of rows: 373\n",
      "[INFO] Number of NA values:  0\n",
      "[INFO] DataFrame cnv - Removed 11603 features.\n",
      "[INFO] DataFrame mutation - Removed 3 samples (0.29%).\n",
      "[INFO] DataFrame rna - Removed 3 samples (0.29%).\n",
      "[INFO] DataFrame cnv - Removed 3 samples (0.32%).\n",
      "[INFO] Implementing feature selection using laplacian score for layer: mutation with  808 features  and  935  samples \n",
      "[INFO] No feature selection applied. Returning original matrix. Demanded # of features is  larger than existing number of features\n",
      "[INFO] Implementing feature selection using laplacian score for layer: rna with  9098 features  and  935  samples \n"
     ]
    },
    {
     "name": "stderr",
     "output_type": "stream",
     "text": [
      "Calculating Laplacian scores: 100%|████████████████████████████████████████████████████████████| 9098/9098 [01:35<00:00, 94.78it/s]\n",
      "Filtering redundant features: 100%|███████████████████████████████████████████████████████████| 1000/1000 [00:01<00:00, 636.95it/s]\n"
     ]
    },
    {
     "name": "stdout",
     "output_type": "stream",
     "text": [
      "[INFO] Implementing feature selection using laplacian score for layer: cnv with  11304 features  and  935  samples \n"
     ]
    },
    {
     "name": "stderr",
     "output_type": "stream",
     "text": [
      "Calculating Laplacian scores: 100%|█████████████████████████████████████████████████████████| 11304/11304 [00:55<00:00, 201.89it/s]\n",
      "Filtering redundant features: 100%|█████████████████████████████████████████████████████████| 1130/1130 [00:00<00:00, 38078.88it/s]\n"
     ]
    },
    {
     "name": "stdout",
     "output_type": "stream",
     "text": [
      "\n",
      "[INFO] ----------------- Processing Data (test) ----------------- \n",
      "\n",
      "[INFO] ----------------- Cleaning Up Data ----------------- \n",
      "\n",
      "[INFO] working on layer:  mutation\n",
      "[INFO] Imputing NA values to median of features, affected # of cells in the matrix 1  # of rows: 1\n",
      "[INFO] Number of NA values:  0\n",
      "[INFO] DataFrame mutation - Removed 41 features.\n",
      "\n",
      "[INFO] working on layer:  rna\n",
      "[INFO] Number of NA values:  0\n",
      "[INFO] DataFrame rna - Removed 5824 features.\n",
      "\n",
      "[INFO] working on layer:  cnv\n",
      "[INFO] Imputing NA values to median of features, affected # of cells in the matrix 19540  # of rows: 329\n",
      "[INFO] Number of NA values:  0\n",
      "[INFO] DataFrame cnv - Removed 11634 features.\n",
      "[INFO] DataFrame mutation - Removed 61 samples (8.63%).\n",
      "[INFO] DataFrame rna - Removed 53 samples (7.29%).\n",
      "[INFO] DataFrame cnv - Removed 56 samples (5.79%).\n",
      "\n",
      "[INFO] ----------------- Harmonizing Data Sets ----------------- \n",
      "\n",
      "[INFO] ----------------- Finished Harmonizing ----------------- \n",
      "\n",
      "[INFO] ----------------- Normalizing Data ----------------- \n",
      "\n",
      "[INFO] ----------------- Normalizing Data ----------------- \n",
      "[INFO] Training Data Stats:  {'feature_count in: cnv': 989, 'feature_count in: mutation': 24, 'feature_count in: rna': 689, 'sample_count': 935}\n",
      "[INFO] Test Data Stats:  {'feature_count in: cnv': 989, 'feature_count in: mutation': 24, 'feature_count in: rna': 689, 'sample_count': 560}\n",
      "[INFO] Merging Feature Logs...\n",
      "[INFO] Data import successful.\n"
     ]
    }
   ],
   "source": [
    "data_importer = flexynesis.DataImporter(path ='ccle_vs_gdsc', \n",
    "                                        data_types = ['mutation', 'rna', 'cnv'], log_transform=False, concatenate=False, top_percentile=10, min_features=1000, variance_threshold=0.5)\n",
    "train_dataset, test_dataset = data_importer.import_data()"
   ]
  },
  {
   "cell_type": "markdown",
   "id": "1e36497c-ceee-4e15-86d3-9694d7bcbff3",
   "metadata": {},
   "source": [
    "#### a) Import the results of the experiments from step 3, and rank the experiments based on performance (pearson_corr) Which combination yields the best results?"
   ]
  },
  {
   "cell_type": "code",
   "execution_count": 4,
   "id": "e871400b-5534-49a8-8d13-eaa1c4cb0f70",
   "metadata": {},
   "outputs": [
    {
     "name": "stdout",
     "output_type": "stream",
     "text": [
      "Ranking of experiments by Pearson correlation (descending):\n"
     ]
    },
    {
     "data": {
      "text/html": [
       "<div>\n",
       "<style scoped>\n",
       "    .dataframe tbody tr th:only-of-type {\n",
       "        vertical-align: middle;\n",
       "    }\n",
       "\n",
       "    .dataframe tbody tr th {\n",
       "        vertical-align: top;\n",
       "    }\n",
       "\n",
       "    .dataframe thead th {\n",
       "        text-align: right;\n",
       "    }\n",
       "</style>\n",
       "<table border=\"1\" class=\"dataframe\">\n",
       "  <thead>\n",
       "    <tr style=\"text-align: right;\">\n",
       "      <th></th>\n",
       "      <th>Prefix</th>\n",
       "      <th>FilePath</th>\n",
       "      <th>PearsonCorr</th>\n",
       "    </tr>\n",
       "  </thead>\n",
       "  <tbody>\n",
       "    <tr>\n",
       "      <th>0</th>\n",
       "      <td>run_DirectPred_rna_intermediate</td>\n",
       "      <td>logs_flexynesis/run_DirectPred_rna_intermediat...</td>\n",
       "      <td>0.453254</td>\n",
       "    </tr>\n",
       "    <tr>\n",
       "      <th>1</th>\n",
       "      <td>run_DirectPred_rna_early</td>\n",
       "      <td>logs_flexynesis/run_DirectPred_rna_early/run_D...</td>\n",
       "      <td>0.450047</td>\n",
       "    </tr>\n",
       "    <tr>\n",
       "      <th>2</th>\n",
       "      <td>run_DirectPred_mutation,rna_intermediate</td>\n",
       "      <td>logs_flexynesis/run_DirectPred_mutation,rna_in...</td>\n",
       "      <td>0.350828</td>\n",
       "    </tr>\n",
       "    <tr>\n",
       "      <th>3</th>\n",
       "      <td>run_DirectPred_mutation,rna_early</td>\n",
       "      <td>logs_flexynesis/run_DirectPred_mutation,rna_ea...</td>\n",
       "      <td>0.325760</td>\n",
       "    </tr>\n",
       "    <tr>\n",
       "      <th>4</th>\n",
       "      <td>run_DirectPred_mutation,cnv_early</td>\n",
       "      <td>logs_flexynesis/run_DirectPred_mutation,cnv_ea...</td>\n",
       "      <td>0.181493</td>\n",
       "    </tr>\n",
       "    <tr>\n",
       "      <th>5</th>\n",
       "      <td>run_DirectPred_mutation,cnv_intermediate</td>\n",
       "      <td>logs_flexynesis/run_DirectPred_mutation,cnv_in...</td>\n",
       "      <td>0.174688</td>\n",
       "    </tr>\n",
       "    <tr>\n",
       "      <th>6</th>\n",
       "      <td>run_DirectPred_cnv_early</td>\n",
       "      <td>logs_flexynesis/run_DirectPred_cnv_early/run_D...</td>\n",
       "      <td>0.151628</td>\n",
       "    </tr>\n",
       "    <tr>\n",
       "      <th>7</th>\n",
       "      <td>run_DirectPred_cnv_intermediate</td>\n",
       "      <td>logs_flexynesis/run_DirectPred_cnv_intermediat...</td>\n",
       "      <td>0.127650</td>\n",
       "    </tr>\n",
       "    <tr>\n",
       "      <th>8</th>\n",
       "      <td>run_DirectPred_mutation_early</td>\n",
       "      <td>logs_flexynesis/run_DirectPred_mutation_early/...</td>\n",
       "      <td>0.018219</td>\n",
       "    </tr>\n",
       "    <tr>\n",
       "      <th>9</th>\n",
       "      <td>run_DirectPred_mutation_intermediate</td>\n",
       "      <td>logs_flexynesis/run_DirectPred_mutation_interm...</td>\n",
       "      <td>-0.052102</td>\n",
       "    </tr>\n",
       "  </tbody>\n",
       "</table>\n",
       "</div>"
      ],
      "text/plain": [
       "                                     Prefix  \\\n",
       "0           run_DirectPred_rna_intermediate   \n",
       "1                  run_DirectPred_rna_early   \n",
       "2  run_DirectPred_mutation,rna_intermediate   \n",
       "3         run_DirectPred_mutation,rna_early   \n",
       "4         run_DirectPred_mutation,cnv_early   \n",
       "5  run_DirectPred_mutation,cnv_intermediate   \n",
       "6                  run_DirectPred_cnv_early   \n",
       "7           run_DirectPred_cnv_intermediate   \n",
       "8             run_DirectPred_mutation_early   \n",
       "9      run_DirectPred_mutation_intermediate   \n",
       "\n",
       "                                            FilePath  PearsonCorr  \n",
       "0  logs_flexynesis/run_DirectPred_rna_intermediat...     0.453254  \n",
       "1  logs_flexynesis/run_DirectPred_rna_early/run_D...     0.450047  \n",
       "2  logs_flexynesis/run_DirectPred_mutation,rna_in...     0.350828  \n",
       "3  logs_flexynesis/run_DirectPred_mutation,rna_ea...     0.325760  \n",
       "4  logs_flexynesis/run_DirectPred_mutation,cnv_ea...     0.181493  \n",
       "5  logs_flexynesis/run_DirectPred_mutation,cnv_in...     0.174688  \n",
       "6  logs_flexynesis/run_DirectPred_cnv_early/run_D...     0.151628  \n",
       "7  logs_flexynesis/run_DirectPred_cnv_intermediat...     0.127650  \n",
       "8  logs_flexynesis/run_DirectPred_mutation_early/...     0.018219  \n",
       "9  logs_flexynesis/run_DirectPred_mutation_interm...    -0.052102  "
      ]
     },
     "metadata": {},
     "output_type": "display_data"
    },
    {
     "data": {
      "image/png": "[encoded data removed]",
      "text/plain": [
       "<Figure size 1000x500 with 1 Axes>"
      ]
     },
     "metadata": {},
     "output_type": "display_data"
    },
    {
     "name": "stdout",
     "output_type": "stream",
     "text": [
      "The best model prefix is: run_DirectPred_rna_intermediate\n"
     ]
    }
   ],
   "source": [
    "import pandas as pd\n",
    "# Directory where logs and results are stored\n",
    "LOGS_DIR = \"logs_flexynesis\"\n",
    "\n",
    "# 1. Gather all .stats.csv files in LOGS_DIR\n",
    "stats_files = glob.glob(os.path.join(LOGS_DIR, \"**\", \"*.stats.csv\"), recursive=True)\n",
    "\n",
    "results = []\n",
    "for file_path in stats_files:\n",
    "    # Derive prefix from the filename (assuming e.g. \"run_DirectPred_mut_early.stats.csv\")\n",
    "    prefix = os.path.basename(file_path).replace(\".stats.csv\", \"\")\n",
    "\n",
    "    df_stats = pd.read_csv(file_path)\n",
    "\n",
    "    # 2. Locate the row with metric == \"pearson_corr\"\n",
    "    df_pearson = df_stats[df_stats[\"metric\"] == \"pearson_corr\"]\n",
    "\n",
    "    if not df_pearson.empty:\n",
    "        pearson_val = df_pearson[\"value\"].iloc[0]\n",
    "    else:\n",
    "        pearson_val = None  # if it doesn't exist\n",
    "\n",
    "    results.append({\n",
    "        \"Prefix\": prefix,\n",
    "        \"FilePath\": file_path,\n",
    "        \"PearsonCorr\": pearson_val\n",
    "    })\n",
    "\n",
    "# Convert to a DataFrame\n",
    "results_df = pd.DataFrame(results)\n",
    "\n",
    "# Drop rows with no pearson_corr available (if any)\n",
    "results_df.dropna(subset=[\"PearsonCorr\"], inplace=True)\n",
    "\n",
    "# Sort experiments by pearson_corr descending (best at top)\n",
    "results_df.sort_values(by=\"PearsonCorr\", ascending=False, inplace=True)\n",
    "results_df.reset_index(drop=True, inplace=True)\n",
    "\n",
    "print(\"Ranking of experiments by Pearson correlation (descending):\")\n",
    "display(results_df)\n",
    "\n",
    "# Visualize the Pearson correlation across experiments in a simple bar chart\n",
    "plt.figure(figsize=(10, 5))\n",
    "plt.bar(results_df[\"Prefix\"], results_df[\"PearsonCorr\"], color=\"skyblue\")\n",
    "plt.xticks(rotation=45, ha=\"right\")\n",
    "plt.xlabel(\"Experiment Prefix\")\n",
    "plt.ylabel(\"Pearson Correlation\")\n",
    "plt.title(\"Experiment Ranking by Pearson Correlation (Erlotinib Prediction)\")\n",
    "plt.tight_layout()\n",
    "plt.show()\n",
    "\n",
    "# Identify the best model (highest PearsonCorr)\n",
    "best_model_prefix = results_df.iloc[0][\"Prefix\"]\n",
    "print(f\"The best model prefix is: {best_model_prefix}\")"
   ]
  },
  {
   "cell_type": "code",
   "execution_count": 7,
   "id": "50653443-2fb1-4cfa-85c9-7a429c835b52",
   "metadata": {},
   "outputs": [
    {
     "data": {
      "text/plain": [
       "'logs_flexynesis/run_DirectPred_rna_intermediate/run_DirectPred_rna_intermediate.embeddings_train.csv'"
      ]
     },
     "execution_count": 7,
     "metadata": {},
     "output_type": "execute_result"
    }
   ],
   "source": [
    "BEST_MODEL_DIR = os.path.join(LOGS_DIR, best_model_prefix)\n",
    "BEST_MODEL_DIR\n",
    "train_embeddings_path = os.path.join(BEST_MODEL_DIR, f\"{best_model_prefix}.embeddings_train.csv\")\n",
    "train_embeddings_path"
   ]
  },
  {
   "cell_type": "code",
   "execution_count": 18,
   "id": "1735f3cb-0a3d-465c-b55b-170b5bcaa952",
   "metadata": {},
   "outputs": [],
   "source": [
    "train_embeddings_path = os.path.join(LOGS_DIR, f\"{best_model_prefix}.embeddings_train.csv\")\n",
    "test_embeddings_path  = os.path.join(LOGS_DIR, f\"{best_model_prefix}.embeddings_test.csv\")\n",
    "df_train_embed = pd.read_csv(train_embeddings_path)\n",
    "df_test_embed = pd.read_csv(test_embeddings_path)\n",
    "#model = best_model_prefix\n",
    "## Evaluate the model and visualising the results\n",
    "#flexynesis.evaluate_wrapper(method = 'DirectPred', y_pred_dict=model.predict(test_dataset), dataset = test_dataset)                            "
   ]
  },
  {
   "cell_type": "code",
   "execution_count": 21,
   "id": "5a709aa9-c90e-41bf-b21c-448b8f8f3980",
   "metadata": {},
   "outputs": [
    {
     "data": {
      "text/plain": [
       "('run_DirectPred_rna_intermediate',\n",
       "       Unnamed: 0        E0        E1        E2        E3        E4        E5  \\\n",
       " 0       COLO 783  0.383668 -0.462250  0.420462  0.468506 -0.554237  0.260714   \n",
       " 1         KMRC-3  0.787072 -0.623970 -0.145614  0.437901 -0.327206 -1.109788   \n",
       " 2            Reh  1.043900  1.467079  1.260730  0.351432  1.734284  1.022625   \n",
       " 3       NCI-H211  0.999567  0.995893 -1.202189  0.550998 -0.014360  0.418132   \n",
       " 4     RERF-LC-A1  0.207959  0.143009 -0.266068 -0.038593 -0.230632 -0.330007   \n",
       " ...          ...       ...       ...       ...       ...       ...       ...   \n",
       " 1029        MCAS -0.004041 -0.038140 -0.662098 -0.186166 -0.177991 -0.259677   \n",
       " 1030      KALS-1  0.540703 -0.292617  0.418564 -0.109999 -0.387243 -0.802935   \n",
       " 1031    SNU-1197 -0.150108  0.205342 -0.724857 -0.069032 -0.164365 -0.373575   \n",
       " 1032   NCI-H2087  0.194359  0.278921 -0.360104 -0.117145 -0.222872 -0.112089   \n",
       " 1033     HEC-1-B  0.201260  0.141017 -0.212239  0.191608 -0.315883 -0.310280   \n",
       " \n",
       "             E6        E7        E8  ...       E57       E58       E59  \\\n",
       " 0    -0.319380 -0.569062  0.419521  ...  0.544266  0.034317 -0.104987   \n",
       " 1     0.298627 -1.331494  0.449816  ...  1.092444 -0.057108 -0.211174   \n",
       " 2    -1.120768  0.890722  0.807219  ... -2.706170 -1.289425  0.397685   \n",
       " 3    -0.266851 -0.214760  0.691273  ... -0.118257 -0.256527  0.607456   \n",
       " 4    -0.366713 -0.775685  0.045817  ...  0.449440 -0.084262  0.131243   \n",
       " ...        ...       ...       ...  ...       ...       ...       ...   \n",
       " 1029 -0.052772 -0.408091  0.112773  ... -0.083985 -0.245137  0.124495   \n",
       " 1030 -0.454800 -1.032329  0.033028  ...  0.726345 -0.038086  0.100497   \n",
       " 1031  0.294312 -0.639807 -0.180692  ... -0.212187 -0.363604  0.392421   \n",
       " 1032  0.017414 -0.013537  0.093212  ...  0.049920 -0.210882  0.417535   \n",
       " 1033  0.008937 -0.224357  0.326559  ...  0.038918 -0.032823  0.089060   \n",
       " \n",
       "            E60       E61       E62       E63       E64       E65       E66  \n",
       " 0     0.556574 -0.212442 -0.038245  0.153458 -0.168709  0.266123  0.106499  \n",
       " 1    -0.264076 -0.191370 -0.012011  0.467858 -0.264632  0.394326 -0.329169  \n",
       " 2     3.193825  0.519642  0.190293 -0.901750  0.551443  0.078230 -1.655311  \n",
       " 3     0.109143  0.268354  0.581484  0.351482 -1.442255  0.101764  0.778347  \n",
       " 4     0.575960  0.261190  0.148815 -0.494574 -0.154833  0.283314  0.118013  \n",
       " ...        ...       ...       ...       ...       ...       ...       ...  \n",
       " 1029 -0.465206 -0.802398  0.039567  0.436607 -0.038709  0.617923  0.148087  \n",
       " 1030  0.463390  0.369192  0.045415 -0.306736 -0.100508  0.616236  0.059609  \n",
       " 1031 -0.478944 -0.967391 -0.414657  0.638252 -0.050920  0.875230  0.127573  \n",
       " 1032 -0.224283 -0.250089 -0.027343  0.155276 -0.259470  0.305568  0.182880  \n",
       " 1033 -0.424697 -0.158643 -0.166739  0.587530 -0.616444  0.022521 -0.007809  \n",
       " \n",
       " [1034 rows x 68 columns])"
      ]
     },
     "execution_count": 21,
     "metadata": {},
     "output_type": "execute_result"
    }
   ],
   "source": [
    "best_model_prefix, df_train_embed"
   ]
  },
  {
   "cell_type": "code",
   "execution_count": 20,
   "id": "1c8dec7c-fc72-499c-8385-28284a80bab3",
   "metadata": {},
   "outputs": [],
   "source": [
    "#train_dataset.ann['Erlotinib']"
   ]
  },
  {
   "cell_type": "code",
   "execution_count": 19,
   "id": "f8614c9d-1bbf-43c1-b7e2-dec6cc91a1b8",
   "metadata": {},
   "outputs": [
    {
     "ename": "ValueError",
     "evalue": "could not convert string to float: 'COLO 783'",
     "output_type": "error",
     "traceback": [
      "\u001b[31m---------------------------------------------------------------------------\u001b[39m",
      "\u001b[31mValueError\u001b[39m                                Traceback (most recent call last)",
      "\u001b[32m/tmp/ipykernel_872577/302378070.py\u001b[39m in \u001b[36m?\u001b[39m\u001b[34m()\u001b[39m\n\u001b[32m      1\u001b[39m \u001b[38;5;66;03m#train_embeddings = model.transform(train_dataset)\u001b[39;00m\n\u001b[32m      2\u001b[39m train_embeddings = df_train_embed\n\u001b[32m----> \u001b[39m\u001b[32m3\u001b[39m flexynesis.plot_dim_reduced(train_embeddings, train_dataset.ann[\u001b[33m'Erlotinib'\u001b[39m])\n",
      "\u001b[32m~/micromamba/envs/flexynesisenv/lib/python3.11/site-packages/flexynesis/utils.py\u001b[39m in \u001b[36m?\u001b[39m\u001b[34m(matrix, labels, method, color_type)\u001b[39m\n\u001b[32m     65\u001b[39m         transformer = UMAP(n_components=\u001b[32m2\u001b[39m)\n\u001b[32m     66\u001b[39m     \u001b[38;5;28;01melse\u001b[39;00m:\n\u001b[32m     67\u001b[39m         \u001b[38;5;28;01mraise\u001b[39;00m ValueError(\u001b[33m\"Invalid method. Expected 'pca' or 'umap'\"\u001b[39m)\n\u001b[32m     68\u001b[39m \n\u001b[32m---> \u001b[39m\u001b[32m69\u001b[39m     transformed_matrix = transformer.fit_transform(matrix)\n\u001b[32m     70\u001b[39m \n\u001b[32m     71\u001b[39m     \u001b[38;5;66;03m# Create DataFrame\u001b[39;00m\n\u001b[32m     72\u001b[39m     transformed_df = pd.DataFrame(transformed_matrix, columns=[\u001b[33mf\"{method.upper()}1\"\u001b[39m, \u001b[33mf\"{method.upper()}2\"\u001b[39m])\n",
      "\u001b[32m~/micromamba/envs/flexynesisenv/lib/python3.11/site-packages/sklearn/utils/_set_output.py\u001b[39m in \u001b[36m?\u001b[39m\u001b[34m(self, X, *args, **kwargs)\u001b[39m\n\u001b[32m    317\u001b[39m     @wraps(f)\n\u001b[32m    318\u001b[39m     \u001b[38;5;28;01mdef\u001b[39;00m wrapped(self, X, *args, **kwargs):\n\u001b[32m--> \u001b[39m\u001b[32m319\u001b[39m         data_to_wrap = f(self, X, *args, **kwargs)\n\u001b[32m    320\u001b[39m         \u001b[38;5;28;01mif\u001b[39;00m isinstance(data_to_wrap, tuple):\n\u001b[32m    321\u001b[39m             \u001b[38;5;66;03m# only wrap the first output for cross decomposition\u001b[39;00m\n\u001b[32m    322\u001b[39m             return_tuple = (\n",
      "\u001b[32m~/micromamba/envs/flexynesisenv/lib/python3.11/site-packages/sklearn/base.py\u001b[39m in \u001b[36m?\u001b[39m\u001b[34m(estimator, *args, **kwargs)\u001b[39m\n\u001b[32m   1385\u001b[39m                 skip_parameter_validation=(\n\u001b[32m   1386\u001b[39m                     prefer_skip_nested_validation \u001b[38;5;28;01mor\u001b[39;00m global_skip_validation\n\u001b[32m   1387\u001b[39m                 )\n\u001b[32m   1388\u001b[39m             ):\n\u001b[32m-> \u001b[39m\u001b[32m1389\u001b[39m                 \u001b[38;5;28;01mreturn\u001b[39;00m fit_method(estimator, *args, **kwargs)\n",
      "\u001b[32m~/micromamba/envs/flexynesisenv/lib/python3.11/site-packages/sklearn/decomposition/_pca.py\u001b[39m in \u001b[36m?\u001b[39m\u001b[34m(self, X, y)\u001b[39m\n\u001b[32m    464\u001b[39m         -----\n\u001b[32m    465\u001b[39m         This method returns a Fortran-ordered array. To convert it to a\n\u001b[32m    466\u001b[39m         C-ordered array, use \u001b[33m'np.ascontiguousarray'\u001b[39m.\n\u001b[32m    467\u001b[39m         \"\"\"\n\u001b[32m--> \u001b[39m\u001b[32m468\u001b[39m         U, S, _, X, x_is_centered, xp = self._fit(X)\n\u001b[32m    469\u001b[39m         \u001b[38;5;28;01mif\u001b[39;00m U \u001b[38;5;28;01mis\u001b[39;00m \u001b[38;5;28;01mnot\u001b[39;00m \u001b[38;5;28;01mNone\u001b[39;00m:\n\u001b[32m    470\u001b[39m             U = U[:, : self.n_components_]\n\u001b[32m    471\u001b[39m \n",
      "\u001b[32m~/micromamba/envs/flexynesisenv/lib/python3.11/site-packages/sklearn/decomposition/_pca.py\u001b[39m in \u001b[36m?\u001b[39m\u001b[34m(self, X)\u001b[39m\n\u001b[32m    501\u001b[39m         \u001b[38;5;66;03m# written in a way to avoid the need for any inplace modification of\u001b[39;00m\n\u001b[32m    502\u001b[39m         \u001b[38;5;66;03m# the input data contrary to the other solvers.\u001b[39;00m\n\u001b[32m    503\u001b[39m         \u001b[38;5;66;03m# The copy will happen\u001b[39;00m\n\u001b[32m    504\u001b[39m         \u001b[38;5;66;03m# later, only if needed, once the solver negotiation below is done.\u001b[39;00m\n\u001b[32m--> \u001b[39m\u001b[32m505\u001b[39m         X = validate_data(\n\u001b[32m    506\u001b[39m             self,\n\u001b[32m    507\u001b[39m             X,\n\u001b[32m    508\u001b[39m             dtype=[xp.float64, xp.float32],\n",
      "\u001b[32m~/micromamba/envs/flexynesisenv/lib/python3.11/site-packages/sklearn/utils/validation.py\u001b[39m in \u001b[36m?\u001b[39m\u001b[34m(_estimator, X, y, reset, validate_separately, skip_check_array, **check_params)\u001b[39m\n\u001b[32m   2940\u001b[39m             out = y\n\u001b[32m   2941\u001b[39m         \u001b[38;5;28;01melse\u001b[39;00m:\n\u001b[32m   2942\u001b[39m             out = X, y\n\u001b[32m   2943\u001b[39m     \u001b[38;5;28;01melif\u001b[39;00m \u001b[38;5;28;01mnot\u001b[39;00m no_val_X \u001b[38;5;28;01mand\u001b[39;00m no_val_y:\n\u001b[32m-> \u001b[39m\u001b[32m2944\u001b[39m         out = check_array(X, input_name=\u001b[33m\"X\"\u001b[39m, **check_params)\n\u001b[32m   2945\u001b[39m     \u001b[38;5;28;01melif\u001b[39;00m no_val_X \u001b[38;5;28;01mand\u001b[39;00m \u001b[38;5;28;01mnot\u001b[39;00m no_val_y:\n\u001b[32m   2946\u001b[39m         out = _check_y(y, **check_params)\n\u001b[32m   2947\u001b[39m     \u001b[38;5;28;01melse\u001b[39;00m:\n",
      "\u001b[32m~/micromamba/envs/flexynesisenv/lib/python3.11/site-packages/sklearn/utils/validation.py\u001b[39m in \u001b[36m?\u001b[39m\u001b[34m(array, accept_sparse, accept_large_sparse, dtype, order, copy, force_writeable, force_all_finite, ensure_all_finite, ensure_non_negative, ensure_2d, allow_nd, ensure_min_samples, ensure_min_features, estimator, input_name)\u001b[39m\n\u001b[32m   1052\u001b[39m                         )\n\u001b[32m   1053\u001b[39m                     array = xp.astype(array, dtype, copy=\u001b[38;5;28;01mFalse\u001b[39;00m)\n\u001b[32m   1054\u001b[39m                 \u001b[38;5;28;01melse\u001b[39;00m:\n\u001b[32m   1055\u001b[39m                     array = _asarray_with_order(array, order=order, dtype=dtype, xp=xp)\n\u001b[32m-> \u001b[39m\u001b[32m1056\u001b[39m             \u001b[38;5;28;01mexcept\u001b[39;00m ComplexWarning \u001b[38;5;28;01mas\u001b[39;00m complex_warning:\n\u001b[32m   1057\u001b[39m                 raise ValueError(\n\u001b[32m   1058\u001b[39m                     \u001b[33m\"Complex data not supported\\n{}\\n\"\u001b[39m.format(array)\n\u001b[32m   1059\u001b[39m                 ) from complex_warning\n",
      "\u001b[32m~/micromamba/envs/flexynesisenv/lib/python3.11/site-packages/sklearn/utils/_array_api.py\u001b[39m in \u001b[36m?\u001b[39m\u001b[34m(array, dtype, order, copy, xp, device)\u001b[39m\n\u001b[32m    835\u001b[39m         \u001b[38;5;66;03m# Use NumPy API to support order\u001b[39;00m\n\u001b[32m    836\u001b[39m         \u001b[38;5;28;01mif\u001b[39;00m copy \u001b[38;5;28;01mis\u001b[39;00m \u001b[38;5;28;01mTrue\u001b[39;00m:\n\u001b[32m    837\u001b[39m             array = numpy.array(array, order=order, dtype=dtype)\n\u001b[32m    838\u001b[39m         \u001b[38;5;28;01melse\u001b[39;00m:\n\u001b[32m--> \u001b[39m\u001b[32m839\u001b[39m             array = numpy.asarray(array, order=order, dtype=dtype)\n\u001b[32m    840\u001b[39m \n\u001b[32m    841\u001b[39m         \u001b[38;5;66;03m# At this point array is a NumPy ndarray. We convert it to an array\u001b[39;00m\n\u001b[32m    842\u001b[39m         \u001b[38;5;66;03m# container that is consistent with the input's namespace.\u001b[39;00m\n",
      "\u001b[32m~/micromamba/envs/flexynesisenv/lib/python3.11/site-packages/pandas/core/generic.py\u001b[39m in \u001b[36m?\u001b[39m\u001b[34m(self, dtype, copy)\u001b[39m\n\u001b[32m   2149\u001b[39m     def __array__(\n\u001b[32m   2150\u001b[39m         self, dtype: npt.DTypeLike | \u001b[38;5;28;01mNone\u001b[39;00m = \u001b[38;5;28;01mNone\u001b[39;00m, copy: bool_t | \u001b[38;5;28;01mNone\u001b[39;00m = \u001b[38;5;28;01mNone\u001b[39;00m\n\u001b[32m   2151\u001b[39m     ) -> np.ndarray:\n\u001b[32m   2152\u001b[39m         values = self._values\n\u001b[32m-> \u001b[39m\u001b[32m2153\u001b[39m         arr = np.asarray(values, dtype=dtype)\n\u001b[32m   2154\u001b[39m         if (\n\u001b[32m   2155\u001b[39m             astype_is_view(values.dtype, arr.dtype)\n\u001b[32m   2156\u001b[39m             \u001b[38;5;28;01mand\u001b[39;00m using_copy_on_write()\n",
      "\u001b[31mValueError\u001b[39m: could not convert string to float: 'COLO 783'"
     ]
    }
   ],
   "source": [
    "#train_embeddings = model.transform(train_dataset)\n",
    "train_embeddings = df_train_embed\n",
    "flexynesis.plot_dim_reduced(train_embeddings, train_dataset.ann['Erlotinib'])"
   ]
  },
  {
   "cell_type": "code",
   "execution_count": null,
   "id": "15c13629-74dd-4bab-891e-5591d775d278",
   "metadata": {},
   "outputs": [],
   "source": [
    "test_embeddings = model.transform(test_dataset)\n",
    "flexynesis.plot_dim_reduced(test_embeddings, test_dataset.ann['STUDY'])"
   ]
  },
  {
   "cell_type": "markdown",
   "id": "b8ad1306-c830-4ddf-ac39-bc117dc927f0",
   "metadata": {},
   "source": [
    "#### b) Explore the train/test embeddings from the best model (from 4a)."
   ]
  },
  {
   "cell_type": "code",
   "execution_count": null,
   "id": "e21ffd3f-7ce6-4043-9a41-c9bc8a304434",
   "metadata": {},
   "outputs": [],
   "source": [
    "best_model_prefix = best_model_prefix #\"run_DirectPred_mut_early\"  # Replace with the actual best from part (A)\n",
    "\n",
    "#BEST_MODEL_DIR = os.path.join(LOGS_DIR, best_model_prefix)\n",
    "\n",
    "# Embedding files look like: \"<prefix>.embeddings_train.csv\" and \"<prefix>.embeddings_test.csv\"\n",
    "train_embeddings_path = os.path.join(LOGS_DIR, f\"{best_model_prefix}.embeddings_train.csv\")\n",
    "test_embeddings_path  = os.path.join(LOGS_DIR, f\"{best_model_prefix}.embeddings_test.csv\")\n",
    "\n",
    "# 1) Read and rename columns so the first column = \"sample_id\"\n",
    "df_train_embed = pd.read_csv(train_embeddings_path)\n",
    "df_test_embed = pd.read_csv(test_embeddings_path)\n",
    "\n",
    "# Rename the first column in each to \"sample_id\" (since it's originally the sample name)\n",
    "df_train_embed.rename(columns={df_train_embed.columns[0]: \"sample_id\"}, inplace=True)\n",
    "df_test_embed.rename(columns={df_test_embed.columns[0]: \"sample_id\"}, inplace=True)\n",
    "\n",
    "print(\"Train Embeddings Shape:\", df_train_embed.shape)\n",
    "print(\"Test Embeddings Shape:\", df_test_embed.shape)\n",
    "\n",
    "# 2) Identify the embedding columns (\"E0\", \"E1\", ..., \"E17\"). \n",
    "#    We assume all columns except the first one are the embedding features.\n",
    "embedding_cols = df_train_embed.columns[1:]  # E0..E17 for train\n",
    "\n",
    "# 3) Run PCA on the numeric embedding columns only\n",
    "pca = PCA(n_components=2)\n",
    "\n",
    "# Fit on train, transform train and test\n",
    "train_pca = pca.fit_transform(df_train_embed[embedding_cols])\n",
    "test_pca  = pca.transform(df_test_embed[embedding_cols])\n",
    "\n",
    "# 4) Plot the train/test embeddings in PCA space\n",
    "plt.figure(figsize=(8, 6))\n",
    "plt.scatter(train_pca[:,0], train_pca[:,1], alpha=0.6, label=\"Train\")\n",
    "plt.scatter(test_pca[:,0], test_pca[:,1], alpha=0.6, label=\"Test\")\n",
    "plt.title(f\"PCA of Train/Test Embeddings for {best_model_prefix}\")\n",
    "plt.xlabel(\"PC1\")\n",
    "plt.ylabel(\"PC2\")\n",
    "plt.legend()\n",
    "plt.tight_layout()\n",
    "plt.show()\n",
    "\n",
    "# 5) Display a small sample of each embedding DataFrame\n",
    "print(\"Sample Train Embeddings:\")\n",
    "display(df_train_embed.head())\n",
    "\n",
    "print(\"Sample Test Embeddings:\")\n",
    "display(df_test_embed.head())"
   ]
  },
  {
   "cell_type": "markdown",
   "id": "606dc4cd-c866-40b5-8a99-8beec930c0b9",
   "metadata": {},
   "source": [
    "#### c) Import the feature importance scores from the best model (from 4a). Get top 10 markers."
   ]
  },
  {
   "cell_type": "code",
   "execution_count": null,
   "id": "7b6a051b-62d1-40ef-9ef1-792db2092d40",
   "metadata": {},
   "outputs": [],
   "source": [
    "#BEST_MODEL_DIR = os.path.join(LOGS_DIR, best_model_prefix)\n",
    "feature_importance_path = os.path.join(LOGS_DIR, f\"{best_model_prefix}.feature_importance.IntegratedGradients.csv\")\n",
    "\n",
    "# 1. Read the feature importance CSV\n",
    "df_importance = pd.read_csv(feature_importance_path)\n",
    "\n",
    "# Columns: target_variable, target_class, target_class_label, layer, name, importance, explainer\n",
    "# 2. Sort by highest 'importance'\n",
    "df_importance.sort_values(by=\"importance\", ascending=False, inplace=True)\n",
    "\n",
    "# 3. Extract the top 10 markers\n",
    "top10 = df_importance.head(10)\n",
    "\n",
    "print(f\"Top 10 markers from {best_model_prefix}:\")\n",
    "display(top10)\n",
    "\n",
    "# 4. Provide placeholders for further analysis\n",
    "print(\"Next step: check if these markers (in 'name' column) are known to be related to Erlotinib response.\")"
   ]
  },
  {
   "cell_type": "markdown",
   "id": "068716e0-78f0-4a99-b04f-e29feb396035",
   "metadata": {},
   "source": [
    "#### Do literature search. Are any of the top markers associated to “Erlotinib”?"
   ]
  },
  {
   "cell_type": "markdown",
   "id": "f81ceb63-8d79-4e09-ad42-4fc1e71f28bf",
   "metadata": {},
   "source": [
    "The following references provide insights into the relationship between Erlotinib treatment and various cancer cell lines, particularly focusing on their mechanisms of action, resistance, and therapeutic implications.\n",
    "\n",
    "1. Lee et al.: The study performed a comparative metabolomic analysis of HPAC cells and revealed that glutamate levels were significantly higher in erlotinib-resistant non-small cell lung cancer cells (PC-9ER) relative to their erlotinib-sensitive counterparts (PC-9), illustrating metabolic pathways associated with drug resistance Lee et al. (2017).\n",
    "\n",
    "2. Cavazzoni et al.: This research investigated the combined use of anti-ErbB monoclonal antibodies and erlotinib to enhance antibody-dependent cellular cytotoxicity in NSCLC cell lines. The study underscored the role of erlotinib in modulating protein levels related to survival and resistance in cancer cells (Cavazzoni et al., 2012).\n",
    "\n",
    "3. Zhang et al.: The article focused on AXL kinase's activation and its role in mediating resistance to EGFR-targeted therapy, including erlotinib, emphasizing the signaling pathways involved in acquired resistance in lung cancer cell lines (Zhang et al., 2012).\n",
    "\n",
    "4. Zhang et al.: This study demonstrated that silencing the kinase-interacting stathmin gene can enhance erlotinib sensitivity in breast cancer models, suggesting a potential therapeutic approach to overcome EGFR inhibitor resistance (Zhang et al., 2010).\n",
    "\n",
    "5. Yi et al.: This research highlighted how inhibiting the PI3K/AKT pathway can increase the cytotoxicity of EGFR kinase inhibitors, reinforcing the potential synergistic effects of combining these pathways in treating triple-negative breast cancer (Yi et al., 2013).\n",
    "\n",
    "6. Gusenbauer et al.: This article elaborated on how hepatocyte growth factor (HGF) influences the formation of resistance against tyrosine kinase inhibitors like erlotinib by modulating EGFR interactions and downstream signaling in lung cancer cells (Gusenbauer et al., 2012).\n",
    "\n",
    "7. Yang et al.: A phase III clinical trial compared the efficacy of erlotinib to gefitinib in patients with advanced NSCLC harboring EGFR mutations, providing essential insights into the frontline treatment strategies for this patient population (Yang et al., 2017).\n",
    "\n",
    "8. Fernando et al.: The study revealed that IL-8 signaling plays a significant role in the resistance of lung carcinoma cells to erlotinib, contributing to a better understanding of tumor microenvironment interactions and therapeutic resistance mechanisms (Fernando et al., 2016).\n",
    "\n",
    "9. Herbst et al.: This trial assessed the combination of bevacizumab and erlotinib in patients with NSCLC who had previously undergone chemotherapy, focusing on the feasibility and effectiveness of this treatment approach (Herbst et al., 2011).\n",
    "\n",
    "10. Fan et al.: The research explored the role of MET-independent lung cancer cells in evading EGFR kinase inhibitors, suggesting potential therapeutic strategies involving concurrent inhibition of multiple pathways (Fan et al., 2011).\n",
    "\n",
    "11. Fidias and Novello: The authors reviewed strategies for prolonging therapy in advanced non-small-cell lung cancer, relevant to the ongoing discussion of erlotinib effectiveness in various histological contexts (Fidias & Novello, 2010).\n",
    "\n",
    "12. Bartholomeusz et al.: This study highlighted how gemcitabine could overcome erlotinib resistance in EGFR-overexpressing cancer cells through the downregulation of Akt, suggesting a potential combinatorial treatment strategy (Bartholomeusz et al., 2011).\n",
    "\n",
    "13. Karnthaler-Benbakka et al.: This article examined the effects of a hypoxia-activatable prodrug approach combined with erlotinib in sensitive cell lines, collecting data that supports its therapeutic viability (Karnthaler‐Benbakka et al., 2016).\n",
    "\n",
    "14. Jang et al.: The study's findings propose that ornithine decarboxylase contributes to erlotinib resistance mechanisms in pancreatic cancer, presenting a novel avenue for therapeutic intervention (Jang et al., 2017).\n",
    "\n",
    "15. He et al.: This preprint discusses the sensitization of pancreatic cancer to erlotinib through the silencing of the DJ-1 gene, underscoring potential pharmacological targets in overcoming drug resistance (He et al., 2019).\n",
    "\n",
    "16. Shintani et al.: This research identifies the role of eukaryotic translation initiation factor 3 subunit C in acquired resistance to erlotinib, indicating a key player in the resistance mechanisms of certain lung cancer cell lines (Shintani et al., 2018).\n",
    "\n",
    "17. Wong et al.: This article discusses the co-inhibition of the MAPK and PI3K/Akt/mTOR pathways in pancreatic ductal adenocarcinoma, providing insight into combinatorial strategies to enhance anticancer efficacy alongside erlotinib (Wong et al., 2016).\n",
    "\n",
    "18. Siegman et al.: The research explores the relationship between KRAS mutation status and the effects of erlotinib treatment on autophagy-related mechanisms, contributing to the understanding of context-dependent responses to therapy (Siegman et al., 2024).\n",
    "\n",
    "19. Lee and Wu: This study indicates that the combination of erlotinib with cisplatin can be effective against resistant lung cancer cells, providing rationale for further clinical exploration of combination therapies (Lee & Wu, 2012).\n",
    "\n",
    "20. Lypova et al.: The article demonstrates that PFKFB3 inhibition impairs autophagy induced by erlotinib in NSCLCs, suggesting important interactions between metabolic pathways and drug responses (Lypova et al., 2021).\n",
    "\n",
    "21. Ding et al.: This case report raises concerns over acute myocardial infarction linked to erlotinib treatment in NSCLC, presenting essential safety considerations in clinical practice (Ding et al., 2016).\n",
    "\n",
    "22. Zheng et al.: The study revealed that amiloride can sensitize pancreatic cancer cells to erlotinib by inhibiting the PI3K/AKT signaling pathway, indicating a strategy for enhancing therapeutic efficacy (Zheng et al., 2015).\n",
    "\n",
    "23. Al-Hamaly et al.: The study in zebrafish outlines the role of erlotinib in inhibiting Wnt/β-Catenin signaling in T-ALL, contributing to understanding its effects in hematological malignancies (Al-Hamaly et al., 2023).\n",
    "\n",
    "24. Otahal et al.: This research explored how statins can synergistically enhance the effects of erlotinib in NSCLC cells, pointing toward combination therapies that may overcome drug resistance (Otahal et al., 2020).\n",
    "\n",
    "25. Furugaki: The study examined schedule-dependent antitumor activities when combining erlotinib with docetaxel in NSCLC, supporting the efficacy of targeted combinations tailored to specific mutation profiles (Furugaki, 2010).\n",
    "\n",
    "These references collectively highlight the multifaceted roles of Erlotinib in treating cancer, addressing mechanisms of resistance, potential combination therapies, and implications for specific cancer types.\n",
    "\n",
    "References:\n",
    "Furugaki, F. (2010). Schedule-dependent antitumor activity of the combination with erlotinib and docetaxel in human non-small cell lung cancer cells with egfr mutation, kras mutation or both wild-type egfr and kras. Oncology Reports, 24(5). https://doi.org/10.3892/or_00000965\n",
    "Al-Hamaly, M., Cox, A., Haney, M., Zhang, W., Arvin, E., Sampathi, S., … & Blackburn, J. (2023). Zebrafish drug screening identifies erlotinib as an inhibitor of wnt/β-catenin signaling and self-renewal in t-cell acute lymphoblastic leukemia.. https://doi.org/10.1101/2023.08.28.555200\n",
    "Attri, S., Lone, M., Katiyar, A., Sharma, V., Kumar, V., Verma, C., … & Gahlawat, S. (2023). Genetic analysis of hibm myopathy-specific gne v727m hotspot mutation identifies a novel col6a3 allied gene signature that is also deregulated in multiple neuromuscular diseases and myopathies. Genes, 14(3), 567. https://doi.org/10.3390/genes14030567\n",
    "Bartholomeusz, C., Yamasaki, F., Saso, H., Kurisu, K., Hortobágyi, G., & Ueno, N. (2011). Gemcitabine overcomes erlotinib resistance in egfr-overexpressing cancer cells through downregulation of akt. Journal of Cancer, 2, 435-442. https://doi.org/10.7150/jca.2.435\n",
    "Beyer, S., Bell, E., McElroy, J., Fleming, J., Cui, T., Becker, A., … & Chakravarti, A. (2018). Oncogenictransgelin-2is differentially regulated inisocitrate dehydrogenasewild-type vs. mutant gliomas. Oncotarget, 9(98), 37097-37111. https://doi.org/10.18632/oncotarget.26365\n",
    "Bralten, L., Kloosterhof, N., Balvers, R., Sacchetti, A., Lapre, L., Lamfers, M., … & French, P. (2011). Idh1 r132h decreases proliferation of glioma cell lines in vitro and in vivo. Annals of Neurology, 69(3), 455-463. https://doi.org/10.1002/ana.22390\n",
    "Brat, D., Verhaak, R., Aldape, K., Yung, W., Salama, S., Cooper, L., … & Zhang, J. (2015). Comprehensive, integrative genomic analysis of diffuse lower-grade gliomas. New England Journal of Medicine, 372(26), 2481-2498. https://doi.org/10.1056/nejmoa1402121\n",
    "Cai, H., Yu, Y., Ni, X., Li, C., Hu, Y., Wang, J., … & Chen, Z. (2020). Lncrna linc00998 inhibits the malignant glioma phenotype via the cbx3-mediated c-met/akt/mtor axis. Cell Death and Disease, 11(12). https://doi.org/10.1038/s41419-020-03247-6\n",
    "Cai, J., Zhu, P., Zhang, C., Li, Q., Wang, Z., Li, G., … & Jiang, T. (2016). Detection of atrx and idh1-r132h immunohistochemistry in the progression of 211 paired gliomas. Oncotarget, 7(13), 16384-16395. https://doi.org/10.18632/oncotarget.7650\n",
    "Cavazzoni, A., Alfieri, R., Cretella, D., Saccani, F., Ampollini, L., Galetti, M., … & Ardizzoni, A. (2012). Combined use of anti-erbb monoclonal antibodies and erlotinib enhances antibody-dependent cellular cytotoxicity of wild-type erlotinib-sensitive nsclc cell lines. Molecular Cancer, 11(1). https://doi.org/10.1186/1476-4598-11-91\n",
    "Chen, G., Kuai, D., Cai, S., Xue, N., Liu, Y., Hao, J., … & Guo, Y. (2013). Knockdown of frat1 expression by rna interference inhibits human glioblastoma cell growth, migration and invasion. Plos One, 8(4), e61206. https://doi.org/10.1371/journal.pone.0061206\n",
    "Cheng, C., Niu, C., Yang, Y., Wang, Y., & Lu, M. (2013). Expression of hausp in gliomas correlates with disease progression and survival of patients. Oncology Reports, 29(5), 1730-1736. https://doi.org/10.3892/or.2013.2342\n",
    "Choi, B., Cheong, J., Ryu, J., Won, Y., Min, K., & Han, M. (2024). Significant genes associated with mortality and disease progression in grade ii and iii glioma. Biomedicines, 12(4), 858. https://doi.org/10.3390/biomedicines12040858\n",
    "Choi, B., Cheong, J., Ryu, J., Won, Y., Min, K., & Han, M. (2024). Significant genes associated with mortality and disease progression in grade ii and iii glioma. Biomedicines, 12(4), 858. https://doi.org/10.3390/biomedicines12040858\n",
    "Ding, S., Long, F., & Jiang, S. (2016). Acute myocardial infarction following erlotinib treatment for nsclc: a case report. Oncology Letters, 11(6), 4240-4244. https://doi.org/10.3892/ol.2016.4508\n",
    "Fan, W., Tang, Z., Yin, L., Morrison, B., Hafez-Khayyata, S., Fu, P., … & Patrick, C. (2011). Met-independent lung cancer cells evading egfr kinase inhibitors are therapeutically susceptible to bh3 mimetic agents. Cancer Research, 71(13), 4494-4505. https://doi.org/10.1158/0008-5472.can-10-2668\n",
    "Fernando, R., Hamilton, D., Dominguez, C., David, J., McCampbell, K., & Palena, C. (2016). Il-8 signaling is involved in resistance of lung carcinoma cells to erlotinib. Oncotarget, 7(27), 42031-42044. https://doi.org/10.18632/oncotarget.9662\n",
    "Fidias, P. and Novello, S. (2010). Strategies for prolonged therapy in patients with advanced non–small-cell lung cancer. Journal of Clinical Oncology, 28(34), 5116-5123. https://doi.org/10.1200/jco.2010.30.7074\n",
    "Gusenbauer, S., Vlaicu, P., & Ullrich, A. (2012). Hgf induces novel egfr functions involved in resistance formation to tyrosine kinase inhibitors. Oncogene, 32(33), 3846-3856. https://doi.org/10.1038/onc.2012.396\n",
    "Hartmann, C., Hentschel, B., Tatagiba, M., Schramm, J., Schnell, O., Seidel, C., … & Weller, M. (2011). Molecular markers in low-grade gliomas: predictive or prognostic?. Clinical Cancer Research, 17(13), 4588-4599. https://doi.org/10.1158/1078-0432.ccr-10-3194\n",
    "He, X., Sun, Y., Fan, R., Sun, J., Zou, D., & Yuan, Y. (2019). Silencing of the dj-1 (park7) gene sensitizes pancreatic cancer to erlotinib inhibition.. https://doi.org/10.21203/rs.2.12426/v1\n",
    "Herbst, R., Ansari, R., Bustin, F., Flynn, P., Hart, L., Otterson, G., … & Hainsworth, J. (2011). Efficacy of bevacizumab plus erlotinib versus erlotinib alone in advanced non-small-cell lung cancer after failure of standard first-line chemotherapy (beta): a double-blind, placebo-controlled, phase 3 trial. The Lancet, 377(9780), 1846-1854. https://doi.org/10.1016/s0140-6736(11)60545-x\n",
    "Jang, W., Choi, B., Song, S., Lee, N., Kim, D., Lee, S., … & Jeong, C. (2017). Multi-omics analysis reveals that ornithine decarboxylase contributes to erlotinib resistance in pancreatic cancer cells. Oncotarget, 8(54), 92727-92742. https://doi.org/10.18632/oncotarget.21572\n",
    "Ji, X., Zhang, H., & Cui, Q. (2019). A panel of synapse assembly genes as a biomarker for gliomas.. https://doi.org/10.1101/19011114\n",
    "Kang, K., Xie, F., Wu, Y., Chang, H., Bai, Y., Long, J., … & Zhang, F. (2021). Genomic instability in lower-grade glioma: prediction of prognosis based on lncrna and immune infiltration. Molecular Therapy — Oncolytics, 22, 431-443. https://doi.org/10.1016/j.omto.2021.07.011\n",
    "Karnthaler‐Benbakka, C., Groza, D., Koblmüller, B., Terenzi, A., Holste, K., Haider, M., … & Keppler, B. (2016). Targeting a targeted drug: an approach toward hypoxia‐activatable tyrosine kinase inhibitor prodrugs. Chemmedchem, 11(21), 2410-2421. https://doi.org/10.1002/cmdc.201600417\n",
    "Khozin, S., Blumenthal, G., Jiang, X., He, K., Boyd, K., Murgo, A., … & Pazdur, R. (2014). U.s. food and drug administration approval summary: erlotinib for the first-line treatment of metastatic non-small cell lung cancer with epidermal growth factor receptor exon 19 deletions or exon 21 (l858r) substitution mutations. The Oncologist, 19(7), 774-779. https://doi.org/10.1634/theoncologist.2014-0089\n",
    "Kim, Y., Pierscianek, D., Mittelbronn, M., Vital, A., Mariani, L., Hasselblatt, M., … & Ohgaki, H. (2011). tet2promoter methylation in low-grade diffuse gliomas lackingidh1/2mutations: figure 1. Journal of Clinical Pathology, 64(10), 850-852. https://doi.org/10.1136/jclinpath-2011-200133\n",
    "Koso, H., Takeda, H., Yew, C., Ward, J., Nariai, N., Ueno, K., … & Jenkins, N. (2012). Transposon mutagenesis identifies genes that transform neural stem cells into glioma-initiating cells. Proceedings of the National Academy of Sciences, 109(44). https://doi.org/10.1073/pnas.1215899109\n",
    "Lee, J. and Wu, R. (2012). Combination erlotinib-cisplatin and atg3-mediated autophagy in erlotinib resistant lung cancer. Plos One, 7(10), e48532. https://doi.org/10.1371/journal.pone.0048532\n",
    "Lee, S., Jang, W., Choi, B., Joo, S., & Jeong, C. (2017). Comparative metabolomic analysis of hpac cells following the acquisition of erlotinib resistance. Oncology Letters, 13(5), 3437-3444. https://doi.org/10.3892/ol.2017.5940\n",
    "Li, G. and Lan, Q. (2021). Bioinformatics analysis reveals a stem cell-expressed circ-serpine2-mediated mirna-mrna regulatory subnetwork in the malignant progression of glioma. Journal of Translational Medicine, 19(1). https://doi.org/10.1186/s12967-021-03118-4\n",
    "Li, Y., Hu, X., Li, Q., Wang, F., Zhang, B., Ding, K., … & Zhang, C. (2018). Shikonin sensitizes wild‑type egfr nsclc cells to erlotinib and gefitinib therapy. Molecular Medicine Reports. https://doi.org/10.3892/mmr.2018.9347\n",
    "Li, Y., Xu, J., Chen, H., Bai, J., Li, S., Zhao, Z., … & Li, X. (2013). Comprehensive analysis of the functional microrna–mrna regulatory network identifies mirna signatures associated with glioma malignant progression. Nucleic Acids Research, 41(22), e203-e203. https://doi.org/10.1093/nar/gkt1054\n",
    "Luo, F., Liao, Y., Cao, E., Yang, Y., Tang, K., Zhou, D., … & Cai, H. (2023). Hypermethylation of hic2 is a potential prognostic biomarker and tumor suppressor of glioma based on bioinformatics analysis and experiments. CNS Neuroscience & Therapeutics, 29(4), 1154-1167. https://doi.org/10.1111/cns.14093\n",
    "Lypova, N., Dougherty, S., Lanceta, L., Chesney, J., & Imbert-Fernandez, Y. (2021). Pfkfb3 inhibition impairs erlotinib-induced autophagy in nsclcs. Cells, 10(7), 1679. https://doi.org/10.3390/cells10071679\n",
    "Otahal, A., Aydemir, D., Tomasich, E., & Minichsdorfer, C. (2020). Delineation of cell death mechanisms induced by synergistic effects of statins and erlotinib in non-small cell lung cancer cell (nsclc) lines. Scientific Reports, 10(1). https://doi.org/10.1038/s41598-020-57707-2\n",
    "Pirozzi, C., Carpenter, A., Waitkus, M., Wang, C., Zhu, H., Hansen, L., … & Yan, H. (2017). Mutant idh1 disrupts the mouse subventricular zone and alters brain tumor progression. Molecular Cancer Research, 15(5), 507-520. https://doi.org/10.1158/1541-7786.mcr-16-0485\n",
    "Shintani, T., Higashisaka, K., Maeda, M., Hamada, M., Tsuji, R., Kurihara, K., … & Fujio, Y. (2018). Eukaryotic translation initiation factor 3 subunit c is associated with acquired resistance to erlotinib in non-small cell lung cancer. Oncotarget, 9(101), 37520-37533. https://doi.org/10.18632/oncotarget.26494\n",
    "Siegman, A., Shaykevich, A., Chae, D., Silverman, I., Goel, S., & Maitra, R. (2024). Erlotinib treatment in colorectal cancer suppresses autophagy based on kras mutation. Current Issues in Molecular Biology, 46(7), 7530-7547. https://doi.org/10.3390/cimb46070447\n",
    "Wang, J., Qi, J., & Hou, X. (2020). Systematically dissecting the function of rna-binding proteins during glioma progression. Frontiers in Genetics, 10. https://doi.org/10.3389/fgene.2019.01394\n",
    "Watanabe, T., Nobusawa, S., Kleihues, P., & Ohgaki, H. (2009). Idh1 mutations are early events in the development of astrocytomas and oligodendrogliomas. American Journal of Pathology, 174(4), 1149-1153. https://doi.org/10.2353/ajpath.2009.080958\n",
    "Wong, M., Xue, A., Baxter, R., Pavlakis, N., & Smith, R. (2016). Upstream and downstream co-inhibition of mitogen-activated protein kinase and pi3k/akt/mtor pathways in pancreatic ductal adenocarcinoma. Neoplasia, 18(7), 425-435. https://doi.org/10.1016/j.neo.2016.06.001\n",
    "Yang, J., Zhou, Q., Yan, H., Zhang, X., Chen, H., Tu, H., … & Wu, Y. (2017). A phase iii randomised controlled trial of erlotinib vs gefitinib in advanced non-small cell lung cancer with egfr mutations. British Journal of Cancer, 116(5), 568-574. https://doi.org/10.1038/bjc.2016.456\n",
    "Yao, Y., Chan, A., Qin, Z., Chen, L., Zhang, X., Pang, J., … & Zhou, L. (2013). Mutation analysis of idh1 in paired gliomas revealed idh1 mutation was not associated with malignant progression but predicted longer survival. Plos One, 8(6), e67421. https://doi.org/10.1371/journal.pone.0067421\n",
    "Yi, Y., Hong, W., Kang, H., Kim, H., Zhao, W., Wang, A., … & Bae, I. (2013). Inhibition of the pi3k/akt pathway potentiates cytotoxicity of egfr kinase inhibitors in triple‐negative breast cancer cells. Journal of Cellular and Molecular Medicine, 17(5), 648-656. https://doi.org/10.1111/jcmm.12046\n",
    "Zhang, D., Tari, A., Akar, U., Arun, B., LaFortune, T., Nieves-Alicea, R., … & Ueno, N. (2010). Silencing kinase-interacting stathmin gene enhances erlotinib sensitivity by inhibiting ser10 p27 phosphorylation in epidermal growth factor receptor–expressing breast cancer. Molecular Cancer Therapeutics, 9(11), 3090-3099. https://doi.org/10.1158/1535-7163.mct-10-0362\n",
    "Zhang, D., Zhao, J., Han, C., Liu, X., Liu, J., & Yang, H. (2020). Identification of hub genes related to prognosis in glioma. Bioscience Reports, 40(5). https://doi.org/10.1042/bsr20193377\n",
    "Zhang, Z., Lee, J., Lin, L., Olivas, V., Au, V., LaFramboise, T., … & Bivona, T. (2012). Activation of the axl kinase causes resistance to egfr-targeted therapy in lung cancer. Nature Genetics, 44(8), 852-860. https://doi.org/10.1038/ng.2330\n",
    "Zheng, Y., Yang, H., Li, T., Zhao, B., Shao, T., Xiang, X., … & Cai, W. (2015). Amiloride sensitizes human pancreatic cancer cells to erlotinib in vitro through inhibition of the pi3k/akt signaling pathway. Acta Pharmacologica Sinica, 36(5), 614-626. https://doi.org/10.1038/aps.2015.4"
   ]
  }
 ],
 "metadata": {
  "kernelspec": {
   "display_name": "Python 3 (ipykernel)",
   "language": "python",
   "name": "python3"
  },
  "language_info": {
   "codemirror_mode": {
    "name": "ipython",
    "version": 3
   },
   "file_extension": ".py",
   "mimetype": "text/x-python",
   "name": "python",
   "nbconvert_exporter": "python",
   "pygments_lexer": "ipython3",
   "version": "3.11.0"
  }
 },
 "nbformat": 4,
 "nbformat_minor": 5
}
