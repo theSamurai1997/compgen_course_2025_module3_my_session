{
 "cells": [
  {
   "cell_type": "code",
   "execution_count": null,
   "id": "a9b12fb4-8de2-4590-964d-9315e3a3cc97",
   "metadata": {},
   "outputs": [],
   "source": [
    "import os\n",
    "import flexynesis\n",
    "import torch\n",
    "import numpy as np\n",
    "import pandas as pd"
   ]
  },
  {
   "cell_type": "code",
   "execution_count": null,
   "id": "32f3cbf5-3af6-47a5-9fdd-6f6d89c51e39",
   "metadata": {},
   "outputs": [],
   "source": [
    "cbio = flexynesis.CBioPortalData('msk_impact_2017')\n",
    "cbio.get_cbioportal_data(cbio.study_id)"
   ]
  },
  {
   "cell_type": "code",
   "execution_count": null,
   "id": "13d7e87c-c558-427a-a374-1ee0467e82c6",
   "metadata": {},
   "outputs": [],
   "source": [
    "cna = pd.read_csv('./msk_impact_2017/data_cna.txt', delimiter='\\t')"
   ]
  },
  {
   "cell_type": "code",
   "execution_count": null,
   "id": "9b849acd-2b7d-4316-a065-9e3f68eec7a3",
   "metadata": {},
   "outputs": [],
   "source": [
    "cna.head()"
   ]
  },
  {
   "cell_type": "code",
   "execution_count": null,
   "id": "552617dd-d21c-4084-b57f-7e13e900326f",
   "metadata": {},
   "outputs": [],
   "source": [
    "mut = pd.read_csv('./msk_impact_2017/data_mutations.txt', delimiter='\\t', skiprows=1)"
   ]
  },
  {
   "cell_type": "code",
   "execution_count": null,
   "id": "a9723f14-7ebe-45d2-bc7f-b9e355dcac63",
   "metadata": {},
   "outputs": [],
   "source": [
    "mut.head()"
   ]
  },
  {
   "cell_type": "code",
   "execution_count": null,
   "id": "8935fc81-691d-4370-be9e-1242d8f99510",
   "metadata": {},
   "outputs": [],
   "source": [
    "clin = pd.read_csv('./msk_impact_2017/data_clinical_sample.txt', delimiter='\\t', skiprows=4)"
   ]
  },
  {
   "cell_type": "code",
   "execution_count": null,
   "id": "967a9785-b1c8-42a5-b365-dcf625e9d596",
   "metadata": {},
   "outputs": [],
   "source": [
    "clin.head()"
   ]
  },
  {
   "cell_type": "code",
   "execution_count": null,
   "id": "7ebdbd09-b49c-4199-8172-bd3d486fc7ef",
   "metadata": {},
   "outputs": [],
   "source": [
    "cbio.get_cbioportal_data(cbio.study_id, files={'mut': 'data_mutations.txt', 'cna': 'data_cna.txt', 'clin': 'data_clinical_sample.txt'})"
   ]
  },
  {
   "cell_type": "code",
   "execution_count": null,
   "id": "c31984c3-4f1b-4b4b-a055-c889ab4e1d52",
   "metadata": {},
   "outputs": [],
   "source": [
    "data = cbio.data"
   ]
  },
  {
   "cell_type": "code",
   "execution_count": null,
   "id": "00c3c4b7-bca0-4688-8204-6a6d82877f44",
   "metadata": {},
   "outputs": [],
   "source": [
    "data['clin'].index = data['clin'].SAMPLE_ID"
   ]
  },
  {
   "cell_type": "code",
   "execution_count": null,
   "id": "169441c4-9aea-475c-b4b6-59b1f29f4188",
   "metadata": {},
   "outputs": [],
   "source": [
    "counts = np.unique(list(data['clin'].PRIMARY_SITE), return_counts=True) "
   ]
  },
  {
   "cell_type": "code",
   "execution_count": null,
   "id": "35108027-7bbc-4a52-a4a2-f27ad26525db",
   "metadata": {},
   "outputs": [],
   "source": [
    "counts"
   ]
  },
  {
   "cell_type": "code",
   "execution_count": null,
   "id": "118bc876-c86d-4bc4-a8b5-8e18487b083e",
   "metadata": {},
   "outputs": [],
   "source": [
    "cancer_types = counts[0][np.where(counts[1] > 300)]"
   ]
  },
  {
   "cell_type": "code",
   "execution_count": null,
   "id": "bdf59175-9ffb-4728-8117-e4ba70f039af",
   "metadata": {},
   "outputs": [],
   "source": [
    "cancer_types"
   ]
  },
  {
   "cell_type": "code",
   "execution_count": null,
   "id": "66cffb9b-2308-4ed3-a474-2f720dd54cf4",
   "metadata": {},
   "outputs": [],
   "source": [
    "clin_subset = data['clin'][data['clin']['PRIMARY_SITE'].isin(cancer_types)]"
   ]
  },
  {
   "cell_type": "code",
   "execution_count": null,
   "id": "11056225-b3fa-4f34-a3ca-7381786ca0de",
   "metadata": {},
   "outputs": [],
   "source": [
    "data['clin'] = clin_subset"
   ]
  },
  {
   "cell_type": "code",
   "execution_count": null,
   "id": "00447551-ed7c-48b5-b862-e7b1f430f713",
   "metadata": {},
   "outputs": [],
   "source": [
    "cbio.data = data"
   ]
  },
  {
   "cell_type": "code",
   "execution_count": null,
   "id": "787cd400-06de-4e90-95bf-0471a1124ad8",
   "metadata": {},
   "outputs": [],
   "source": [
    "dat_split = cbio.split_data()"
   ]
  },
  {
   "cell_type": "code",
   "execution_count": null,
   "id": "83b1997d-33b8-46c5-ab40-f8a4af21b92e",
   "metadata": {},
   "outputs": [],
   "source": [
    "{x: dat_split['test'][x].shape for x in dat_split['test'].keys()}"
   ]
  },
  {
   "cell_type": "code",
   "execution_count": null,
   "id": "d72aaa38-3ae6-45ba-8f85-c3cd790a4c6b",
   "metadata": {},
   "outputs": [],
   "source": [
    "cbio.print_dataset(dat_split, 'msk_impact')"
   ]
  },
  {
   "cell_type": "code",
   "execution_count": null,
   "id": "4418a4fc-b060-4b55-bcb9-02626245d72e",
   "metadata": {},
   "outputs": [],
   "source": [
    "data_importer = flexynesis.DataImporter(path ='msk_impact/', \n",
    "                                       data_types = ['mut', 'cna'], \n",
    "                                        concatenate=False, top_percentile=90, variance_threshold=0.1,\n",
    "                                        min_features=500)\n",
    "train_dataset, test_dataset = data_importer.import_data()"
   ]
  },
  {
   "cell_type": "code",
   "execution_count": null,
   "id": "1b02ca91-62a1-4f64-8060-fa428844bdff",
   "metadata": {},
   "outputs": [],
   "source": [
    "train_dataset.ann"
   ]
  },
  {
   "cell_type": "code",
   "execution_count": null,
   "id": "014b1006-3c2e-4afa-8c67-6f36a34ebf68",
   "metadata": {},
   "outputs": [],
   "source": [
    "np.unique(train_dataset.ann['PRIMARY_SITE'], return_counts=True)"
   ]
  },
  {
   "cell_type": "code",
   "execution_count": null,
   "id": "2d31ee94-26b3-4f5f-8642-41769fc4bbfd",
   "metadata": {},
   "outputs": [],
   "source": [
    "train_dataset.label_mappings['PRIMARY_SITE']"
   ]
  },
  {
   "cell_type": "code",
   "execution_count": null,
   "id": "9290e957-88a4-4df9-a87c-49c698b59713",
   "metadata": {},
   "outputs": [],
   "source": [
    "flexynesis.print_summary_stats(train_dataset)"
   ]
  },
  {
   "cell_type": "code",
   "execution_count": null,
   "id": "997d1253-6f21-4de2-bbf8-7fdfb6255fbf",
   "metadata": {},
   "outputs": [],
   "source": []
  }
 ],
 "metadata": {
  "kernelspec": {
   "display_name": "flexynesis",
   "language": "python",
   "name": "flexynesis"
  },
  "language_info": {
   "codemirror_mode": {
    "name": "ipython",
    "version": 3
   },
   "file_extension": ".py",
   "mimetype": "text/x-python",
   "name": "python",
   "nbconvert_exporter": "python",
   "pygments_lexer": "ipython3",
   "version": "3.11.0"
  }
 },
 "nbformat": 4,
 "nbformat_minor": 5
}
